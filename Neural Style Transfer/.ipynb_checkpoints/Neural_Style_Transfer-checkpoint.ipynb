{
 "cells": [
  {
   "cell_type": "markdown",
   "metadata": {
    "colab_type": "text",
    "id": "wL7z2_1kxQS3"
   },
   "source": [
    "## Neural Style Transfer\n",
    "\n",
    "Source of Learning: [TensorFlow Tutorials](https://www.tensorflow.org/tutorials/generative/style_transfer)"
   ]
  },
  {
   "cell_type": "markdown",
   "metadata": {
    "colab_type": "text",
    "id": "wp-Ub6YFxW1S"
   },
   "source": [
    "### Importing Libraries"
   ]
  },
  {
   "cell_type": "code",
   "execution_count": null,
   "metadata": {
    "colab": {},
    "colab_type": "code",
    "id": "b_XXgN_QdxCx"
   },
   "outputs": [],
   "source": [
    "import tensorflow as tf\n",
    "import numpy as np\n",
    "import matplotlib.pyplot as plt\n",
    "import matplotlib.image as pimg\n",
    "import os\n",
    "from PIL import Image\n",
    "from skimage.io import imread, imshow, imread_collection, concatenate_images\n",
    "from tensorflow.keras.utils import plot_model,to_categorical\n",
    "from tensorflow.keras.models import Model,load_model\n",
    "from tensorflow.keras.models import Sequential\n",
    "from tensorflow.keras.layers import Dense,Dropout,Add, Input, Flatten,Embedding,LSTM,GlobalAveragePooling2D,Concatenate,Conv2D,BatchNormalization,LeakyReLU,ZeroPadding2D,UpSampling2D,MaxPooling2D"
   ]
  },
  {
   "cell_type": "markdown",
   "metadata": {
    "colab_type": "text",
    "id": "jxVwMe-R8cgu"
   },
   "source": [
    "### Reading and Visualising Images"
   ]
  },
  {
   "cell_type": "code",
   "execution_count": null,
   "metadata": {
    "colab": {
     "base_uri": "https://localhost:8080/",
     "height": 521
    },
    "colab_type": "code",
    "id": "PkYoibCQhd4S",
    "outputId": "ed247311-bfe1-4929-9cd9-4e27981d9c11"
   },
   "outputs": [],
   "source": [
    "Image2 = pimg.imread('Images/Style.jpg')\n",
    "Image1 = pimg.imread('Images/Me.jpg')\n",
    "\n",
    "plt.imshow(Image1)\n",
    "plt.show()\n",
    "plt.imshow(Image2)\n",
    "plt.show()"
   ]
  },
  {
   "cell_type": "code",
   "execution_count": null,
   "metadata": {
    "colab": {},
    "colab_type": "code",
    "id": "B6xIOMJzyFgB"
   },
   "outputs": [],
   "source": [
    "Content = Image1/255.0\n",
    "Style = Image2/255.0"
   ]
  },
  {
   "cell_type": "markdown",
   "metadata": {
    "colab_type": "text",
    "id": "T8lpgvF8jCA_"
   },
   "source": [
    "### Downloading VGG Net"
   ]
  },
  {
   "cell_type": "code",
   "execution_count": null,
   "metadata": {
    "colab": {},
    "colab_type": "code",
    "id": "RZiX8kBQjGCD"
   },
   "outputs": [],
   "source": [
    "tf.keras.backend.clear_session()\n",
    "vgg = tf.keras.applications.VGG19(include_top=False, weights='imagenet')"
   ]
  },
  {
   "cell_type": "code",
   "execution_count": null,
   "metadata": {
    "colab": {
     "base_uri": "https://localhost:8080/",
     "height": 883
    },
    "colab_type": "code",
    "id": "k0mMXa9njXTV",
    "outputId": "b8a9a157-770d-4f3f-e840-d4e6c746d16e"
   },
   "outputs": [],
   "source": [
    "vgg.summary()"
   ]
  },
  {
   "cell_type": "markdown",
   "metadata": {
    "colab_type": "text",
    "id": "e3OAgpr19a73"
   },
   "source": [
    "### Loss Functions and Gram Matrices"
   ]
  },
  {
   "cell_type": "markdown",
   "metadata": {
    "colab_type": "text",
    "id": "Fa19UliX9qVR"
   },
   "source": [
    "Gram Matrices are computed for Style parts\n",
    "\n",
    "$G_{c d}^{l}=\\frac{\\sum_{i j} F_{i j c}^{l}(x) F_{i j d}^{l}(x)}{I J}$"
   ]
  },
  {
   "cell_type": "code",
   "execution_count": null,
   "metadata": {
    "colab": {},
    "colab_type": "code",
    "id": "LyUjfYp_9pyk"
   },
   "outputs": [],
   "source": [
    "def GramMatrix(style_output):\n",
    "    Numerator = tf.linalg.einsum('bijc,bijd->bcd', style_output, style_output)\n",
    "    input_shape = tf.shape(style_output)\n",
    "    Denominator = tf.cast(input_shape[1]*input_shape[2], tf.float32)\n",
    "    return Numerator/Denominator"
   ]
  },
  {
   "cell_type": "markdown",
   "metadata": {
    "colab_type": "text",
    "id": "8mRw_1brFTMR"
   },
   "source": [
    "Loss = $\\alpha Loss_{Content} + \\beta Loss_{Style}$"
   ]
  },
  {
   "cell_type": "code",
   "execution_count": null,
   "metadata": {
    "colab": {},
    "colab_type": "code",
    "id": "67SKLRgi9fkr"
   },
   "outputs": [],
   "source": [
    "def LossFunction(Content_Output,Style_Output,Content_Target,Style_Target,nclayers,nslayers,alpha=1e4,beta=1e-3):\n",
    "\n",
    "    # Style Loss\n",
    "    style_loss = tf.add_n([tf.reduce_mean((Style_Output[name]-Style_Target[name])**2) \n",
    "                           for name in Style_Output.keys()])\n",
    "    style_loss *= beta / nclayers\n",
    "\n",
    "\n",
    "    # Content Loss\n",
    "    content_loss = tf.add_n([tf.reduce_mean((Content_Output[name]-Content_Targets[name])**2) \n",
    "                             for name in Content_Output.keys()])    \n",
    "    content_loss *= alpha / nslayers\n",
    "\n",
    "\n",
    "    loss = style_loss + content_loss\n",
    "    return loss"
   ]
  },
  {
   "cell_type": "markdown",
   "metadata": {
    "colab_type": "text",
    "id": "gnuSrHf3rAxp"
   },
   "source": [
    "### Building a Model"
   ]
  },
  {
   "cell_type": "code",
   "execution_count": null,
   "metadata": {
    "colab": {},
    "colab_type": "code",
    "id": "sK17xkKnrggx"
   },
   "outputs": [],
   "source": [
    "Content_Layers = ['block5_conv2'] \n",
    "\n",
    "Style_Layers = ['block1_conv1',\n",
    "                'block2_conv1',\n",
    "                'block3_conv1', \n",
    "                'block4_conv1', \n",
    "                'block5_conv1']\n",
    "\n",
    "nclayers = len(Content_Layers)\n",
    "nslayers = len(Style_Layers)"
   ]
  },
  {
   "cell_type": "code",
   "execution_count": null,
   "metadata": {
    "colab": {},
    "colab_type": "code",
    "id": "STGJJr4ZriXH"
   },
   "outputs": [],
   "source": [
    "def StyleContentModel(Input,Content_Layers,Style_Layers):\n",
    "\n",
    "    VGG_Data_Layers = [vgg.get_layer(name).output for name in Style_Layers+Content_Layers]\n",
    "    Model = tf.keras.Model([vgg.input], VGG_Data_Layers)\n",
    "\n",
    "    Input = tf.expand_dims(Input,axis=0) * 255.0\n",
    "    Model_Outputs = Model(Input)\n",
    "\n",
    "    Style_Outputs = {}\n",
    "    Content_Outputs = {}\n",
    "\n",
    "    i = 0\n",
    "    for s in Style_Layers:\n",
    "        Style_Outputs[s] = GramMatrix(Model_Outputs[i])\n",
    "        i+=1\n",
    "\n",
    "    for c in Content_Layers:\n",
    "        Content_Outputs[c] = Model_Outputs[i]\n",
    "        i+=1\n",
    "\n",
    "    return Style_Outputs,Content_Outputs"
   ]
  },
  {
   "cell_type": "code",
   "execution_count": null,
   "metadata": {
    "colab": {},
    "colab_type": "code",
    "id": "gUIl7OBOwwOk"
   },
   "outputs": [],
   "source": [
    "Style_Targets = StyleContentModel(Style,Content_Layers,Style_Layers)[0]\n",
    "Content_Targets = StyleContentModel(Content,Content_Layers,Style_Layers)[1]"
   ]
  },
  {
   "cell_type": "markdown",
   "metadata": {
    "colab_type": "text",
    "id": "pFz_dHAWHHpS"
   },
   "source": [
    "### Training the Model"
   ]
  },
  {
   "cell_type": "code",
   "execution_count": null,
   "metadata": {
    "colab": {},
    "colab_type": "code",
    "id": "9ioUH-TtHb6l"
   },
   "outputs": [],
   "source": [
    "Optimizer = tf.optimizers.Adam(learning_rate=0.02, beta_1=0.99, epsilon=1e-1)"
   ]
  },
  {
   "cell_type": "code",
   "execution_count": null,
   "metadata": {
    "colab": {},
    "colab_type": "code",
    "id": "q7yLf0QQQVLf"
   },
   "outputs": [],
   "source": [
    "def Clipping(ImageData):\n",
    "    return tf.clip_by_value(ImageData, clip_value_min=0.0, clip_value_max=1.0)"
   ]
  },
  {
   "cell_type": "code",
   "execution_count": null,
   "metadata": {
    "colab": {},
    "colab_type": "code",
    "id": "PxtGRHNSHJDw"
   },
   "outputs": [],
   "source": [
    "@tf.function()\n",
    "def TrainingStep(ImageData):\n",
    "    with tf.GradientTape() as tape:\n",
    "        Style_Outputs,Content_Outputs = StyleContentModel(ImageData,Content_Layers,Style_Layers)\n",
    "        Loss = LossFunction(Content_Outputs,Style_Outputs,Content_Targets,Style_Targets,nclayers,nslayers)\n",
    "\n",
    "    gradients = tape.gradient(Loss, ImageData)\n",
    "    Optimizer.apply_gradients([(gradients, ImageData)])\n",
    "    ImageData.assign(Clipping(ImageData))"
   ]
  },
  {
   "cell_type": "code",
   "execution_count": null,
   "metadata": {
    "colab": {},
    "colab_type": "code",
    "id": "8dsoP1lyHKQA"
   },
   "outputs": [],
   "source": [
    "ImageData = tf.Variable(Content)"
   ]
  },
  {
   "cell_type": "code",
   "execution_count": null,
   "metadata": {
    "colab": {},
    "colab_type": "code",
    "id": "SWPDpQt2JLxu"
   },
   "outputs": [],
   "source": [
    "def Training(Epochs,Steps_per_Epoch):\n",
    "    for i in range(Epochs):\n",
    "        print ('Epochs:',i)\n",
    "        for j in range(Steps_per_Epoch):\n",
    "            TrainingStep(ImageData)"
   ]
  },
  {
   "cell_type": "code",
   "execution_count": null,
   "metadata": {
    "colab": {
     "base_uri": "https://localhost:8080/",
     "height": 183
    },
    "colab_type": "code",
    "id": "bUbB8WQfKGWJ",
    "outputId": "a6ba641d-8d46-47a3-b51b-505ae7963f86"
   },
   "outputs": [],
   "source": [
    "Training(10,100)"
   ]
  },
  {
   "cell_type": "markdown",
   "metadata": {
    "colab_type": "text",
    "id": "GorHgMeVKLD1"
   },
   "source": [
    "### Image Generation"
   ]
  },
  {
   "cell_type": "code",
   "execution_count": null,
   "metadata": {
    "colab": {
     "base_uri": "https://localhost:8080/",
     "height": 285
    },
    "colab_type": "code",
    "id": "p_V-O-zlKJw6",
    "outputId": "4274e873-ee66-41d8-ebc8-37034ebe3a79"
   },
   "outputs": [],
   "source": [
    "ImageNData = ImageData.numpy()\n",
    "plt.imshow(ImageNData)"
   ]
  },
  {
   "cell_type": "code",
   "execution_count": null,
   "metadata": {
    "colab": {},
    "colab_type": "code",
    "id": "21v6V8dQbZET"
   },
   "outputs": [],
   "source": [
    "im = Image.fromarray(np.array(ImageNData*255,dtype=np.uint8))\n",
    "im.save('Results/Styled.png')"
   ]
  }
 ],
 "metadata": {
  "accelerator": "GPU",
  "colab": {
   "name": "Neural Style Transfer.ipynb",
   "provenance": []
  },
  "kernelspec": {
   "display_name": "Python 3",
   "language": "python",
   "name": "python3"
  },
  "language_info": {
   "codemirror_mode": {
    "name": "ipython",
    "version": 3
   },
   "file_extension": ".py",
   "mimetype": "text/x-python",
   "name": "python",
   "nbconvert_exporter": "python",
   "pygments_lexer": "ipython3",
   "version": "3.7.6"
  }
 },
 "nbformat": 4,
 "nbformat_minor": 1
}
